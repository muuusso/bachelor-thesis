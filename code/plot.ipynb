{
 "cells": [
  {
   "cell_type": "code",
   "execution_count": 1,
   "metadata": {},
   "outputs": [],
   "source": [
    "from IPython.display import Latex\n",
    "\n",
    "from lmfit import Model\n",
    "from matplotlib.backends.backend_pdf import PdfPages\n",
    "import matplotlib.pyplot as plt\n",
    "import numpy as np\n",
    "import pandas as pd\n",
    "from scipy.optimize import curve_fit\n",
    "\n",
    "plt.rcParams['figure.figsize'] = (8,6)\n",
    "pp = PdfPages('../images/multipage.pdf')"
   ]
  },
  {
   "cell_type": "code",
   "execution_count": 2,
   "metadata": {
    "scrolled": true
   },
   "outputs": [
    {
     "data": {
      "text/html": [
       "<div>\n",
       "<style scoped>\n",
       "    .dataframe tbody tr th:only-of-type {\n",
       "        vertical-align: middle;\n",
       "    }\n",
       "\n",
       "    .dataframe tbody tr th {\n",
       "        vertical-align: top;\n",
       "    }\n",
       "\n",
       "    .dataframe thead th {\n",
       "        text-align: right;\n",
       "    }\n",
       "</style>\n",
       "<table border=\"1\" class=\"dataframe\">\n",
       "  <thead>\n",
       "    <tr style=\"text-align: right;\">\n",
       "      <th></th>\n",
       "      <th>Temp</th>\n",
       "      <th>h</th>\n",
       "      <th>Cv</th>\n",
       "      <th>deltaCv</th>\n",
       "      <th>M</th>\n",
       "      <th>deltaM</th>\n",
       "      <th>Chi</th>\n",
       "      <th>deltaChi</th>\n",
       "      <th>M2</th>\n",
       "      <th>deltaM2</th>\n",
       "    </tr>\n",
       "  </thead>\n",
       "  <tbody>\n",
       "    <tr>\n",
       "      <th>0</th>\n",
       "      <td>2.22</td>\n",
       "      <td>0.00</td>\n",
       "      <td>1.204910</td>\n",
       "      <td>0.041531</td>\n",
       "      <td>0.429596</td>\n",
       "      <td>0.000157</td>\n",
       "      <td>0.826325</td>\n",
       "      <td>641.137</td>\n",
       "      <td>0.184553</td>\n",
       "      <td>0.000135</td>\n",
       "    </tr>\n",
       "    <tr>\n",
       "      <th>1</th>\n",
       "      <td>2.22</td>\n",
       "      <td>0.05</td>\n",
       "      <td>1.831040</td>\n",
       "      <td>0.055737</td>\n",
       "      <td>0.459848</td>\n",
       "      <td>0.000194</td>\n",
       "      <td>1.078950</td>\n",
       "      <td>811.105</td>\n",
       "      <td>0.211460</td>\n",
       "      <td>0.000179</td>\n",
       "    </tr>\n",
       "    <tr>\n",
       "      <th>2</th>\n",
       "      <td>2.22</td>\n",
       "      <td>0.10</td>\n",
       "      <td>1.319560</td>\n",
       "      <td>0.044334</td>\n",
       "      <td>0.520412</td>\n",
       "      <td>0.000138</td>\n",
       "      <td>0.543692</td>\n",
       "      <td>646.251</td>\n",
       "      <td>0.270829</td>\n",
       "      <td>0.000144</td>\n",
       "    </tr>\n",
       "    <tr>\n",
       "      <th>3</th>\n",
       "      <td>2.22</td>\n",
       "      <td>0.15</td>\n",
       "      <td>1.630930</td>\n",
       "      <td>0.051261</td>\n",
       "      <td>0.542731</td>\n",
       "      <td>0.000132</td>\n",
       "      <td>0.546095</td>\n",
       "      <td>637.498</td>\n",
       "      <td>0.294557</td>\n",
       "      <td>0.000143</td>\n",
       "    </tr>\n",
       "    <tr>\n",
       "      <th>4</th>\n",
       "      <td>2.22</td>\n",
       "      <td>0.20</td>\n",
       "      <td>1.252950</td>\n",
       "      <td>0.046721</td>\n",
       "      <td>0.583155</td>\n",
       "      <td>0.000139</td>\n",
       "      <td>0.325037</td>\n",
       "      <td>618.197</td>\n",
       "      <td>0.340070</td>\n",
       "      <td>0.000162</td>\n",
       "    </tr>\n",
       "    <tr>\n",
       "      <th>...</th>\n",
       "      <td>...</td>\n",
       "      <td>...</td>\n",
       "      <td>...</td>\n",
       "      <td>...</td>\n",
       "      <td>...</td>\n",
       "      <td>...</td>\n",
       "      <td>...</td>\n",
       "      <td>...</td>\n",
       "      <td>...</td>\n",
       "      <td>...</td>\n",
       "    </tr>\n",
       "    <tr>\n",
       "      <th>99</th>\n",
       "      <td>3.30</td>\n",
       "      <td>2.00</td>\n",
       "      <td>0.940287</td>\n",
       "      <td>0.034702</td>\n",
       "      <td>0.634625</td>\n",
       "      <td>0.000056</td>\n",
       "      <td>0.115862</td>\n",
       "      <td>231.250</td>\n",
       "      <td>0.402749</td>\n",
       "      <td>0.000071</td>\n",
       "    </tr>\n",
       "    <tr>\n",
       "      <th>100</th>\n",
       "      <td>3.60</td>\n",
       "      <td>2.00</td>\n",
       "      <td>0.807141</td>\n",
       "      <td>0.026595</td>\n",
       "      <td>0.583432</td>\n",
       "      <td>0.000057</td>\n",
       "      <td>0.106762</td>\n",
       "      <td>17.583</td>\n",
       "      <td>0.340393</td>\n",
       "      <td>0.000066</td>\n",
       "    </tr>\n",
       "    <tr>\n",
       "      <th>101</th>\n",
       "      <td>3.90</td>\n",
       "      <td>2.00</td>\n",
       "      <td>0.900258</td>\n",
       "      <td>0.033091</td>\n",
       "      <td>0.533491</td>\n",
       "      <td>0.000097</td>\n",
       "      <td>0.151729</td>\n",
       "      <td>247.454</td>\n",
       "      <td>0.284613</td>\n",
       "      <td>0.000104</td>\n",
       "    </tr>\n",
       "    <tr>\n",
       "      <th>102</th>\n",
       "      <td>4.20</td>\n",
       "      <td>2.00</td>\n",
       "      <td>0.676790</td>\n",
       "      <td>0.012562</td>\n",
       "      <td>0.487579</td>\n",
       "      <td>0.000060</td>\n",
       "      <td>0.131880</td>\n",
       "      <td>160.910</td>\n",
       "      <td>0.237733</td>\n",
       "      <td>0.000059</td>\n",
       "    </tr>\n",
       "    <tr>\n",
       "      <th>103</th>\n",
       "      <td>4.50</td>\n",
       "      <td>2.00</td>\n",
       "      <td>0.617730</td>\n",
       "      <td>0.028490</td>\n",
       "      <td>0.447261</td>\n",
       "      <td>0.000132</td>\n",
       "      <td>0.140576</td>\n",
       "      <td>220.214</td>\n",
       "      <td>0.200042</td>\n",
       "      <td>0.000118</td>\n",
       "    </tr>\n",
       "  </tbody>\n",
       "</table>\n",
       "<p>104 rows × 10 columns</p>\n",
       "</div>"
      ],
      "text/plain": [
       "     Temp     h        Cv   deltaCv         M    deltaM       Chi  deltaChi  \\\n",
       "0    2.22  0.00  1.204910  0.041531  0.429596  0.000157  0.826325   641.137   \n",
       "1    2.22  0.05  1.831040  0.055737  0.459848  0.000194  1.078950   811.105   \n",
       "2    2.22  0.10  1.319560  0.044334  0.520412  0.000138  0.543692   646.251   \n",
       "3    2.22  0.15  1.630930  0.051261  0.542731  0.000132  0.546095   637.498   \n",
       "4    2.22  0.20  1.252950  0.046721  0.583155  0.000139  0.325037   618.197   \n",
       "..    ...   ...       ...       ...       ...       ...       ...       ...   \n",
       "99   3.30  2.00  0.940287  0.034702  0.634625  0.000056  0.115862   231.250   \n",
       "100  3.60  2.00  0.807141  0.026595  0.583432  0.000057  0.106762    17.583   \n",
       "101  3.90  2.00  0.900258  0.033091  0.533491  0.000097  0.151729   247.454   \n",
       "102  4.20  2.00  0.676790  0.012562  0.487579  0.000060  0.131880   160.910   \n",
       "103  4.50  2.00  0.617730  0.028490  0.447261  0.000132  0.140576   220.214   \n",
       "\n",
       "           M2   deltaM2  \n",
       "0    0.184553  0.000135  \n",
       "1    0.211460  0.000179  \n",
       "2    0.270829  0.000144  \n",
       "3    0.294557  0.000143  \n",
       "4    0.340070  0.000162  \n",
       "..        ...       ...  \n",
       "99   0.402749  0.000071  \n",
       "100  0.340393  0.000066  \n",
       "101  0.284613  0.000104  \n",
       "102  0.237733  0.000059  \n",
       "103  0.200042  0.000118  \n",
       "\n",
       "[104 rows x 10 columns]"
      ]
     },
     "execution_count": 2,
     "metadata": {},
     "output_type": "execute_result"
    }
   ],
   "source": [
    "L = 6\n",
    "file = f'data/{L}.csv'\n",
    "\n",
    "df = pd.read_csv(file)\n",
    "df['M2'] = df.M**2\n",
    "df['deltaM2'] = 2*df.M*df.deltaM\n",
    "df"
   ]
  },
  {
   "cell_type": "code",
   "execution_count": 3,
   "metadata": {},
   "outputs": [],
   "source": [
    "dfh00 = df[df.h == 0.0].copy()\n",
    "dfh10 = df[df.h == 1.0].copy()\n",
    "dfh20 = df[df.h == 2.0].copy()\n",
    "\n",
    "Tct = 2.22"
   ]
  },
  {
   "cell_type": "markdown",
   "metadata": {},
   "source": [
    "# $C_v$"
   ]
  },
  {
   "cell_type": "code",
   "execution_count": 4,
   "metadata": {
    "scrolled": false
   },
   "outputs": [
    {
     "name": "stdout",
     "output_type": "stream",
     "text": [
      "[[Model]]\n",
      "    Model(<lambda>)\n",
      "[[Fit Statistics]]\n",
      "    # fitting method   = leastsq\n",
      "    # function evals   = 7\n",
      "    # data points      = 26\n",
      "    # variables        = 2\n",
      "    chi-square         = 18306421.4\n",
      "    reduced chi-square = 762767.560\n",
      "    Akaike info crit   = 354.081314\n",
      "    Bayesian info crit = 356.597507\n",
      "[[Variables]]\n",
      "    alpha:  0.20135905 +/- 0.00433761 (2.15%) (init = 0.2)\n",
      "    q:     -0.97517932 +/- 0.00357154 (0.37%) (init = 1)\n",
      "[[Correlations]] (unreported correlations are < 0.100)\n",
      "    C(alpha, q) = -0.982\n",
      "\n",
      "    alpha:  0.08269265 +/- 0.03669473 (44.37%) (init = 0.2)\n",
      "    q:      0.26848447 +/- 0.12826130 (47.77%) (init = 1)\n",
      "\n"
     ]
    },
    {
     "data": {
      "image/png": "[encoded data removed]",
      "text/plain": [
       "<Figure size 576x432 with 1 Axes>"
      ]
     },
     "metadata": {
      "needs_background": "light"
     },
     "output_type": "display_data"
    }
   ],
   "source": [
    "plt.errorbar(dfh00.Temp, dfh00.Cv, fmt='.', yerr=dfh00.deltaCv, label='MC data')\n",
    "\n",
    "\n",
    "Cv = lambda T, alpha, q: ((T-Tct)/Tct)**(-alpha) + q\n",
    "\n",
    "df_model = dfh00[dfh00.Temp > Tct]\n",
    "\n",
    "Cv_model = Model(Cv)\n",
    "fit = Cv_model.fit(df_model.Cv.values, T=df_model.Temp.values, weights=1/df_model.deltaCv.values**2,\n",
    "                   alpha=0.2, q=1, nan_policy='propagate')\n",
    "print(fit.fit_report())\n",
    "\n",
    "plt.plot(df_model.Temp.values[1:], fit.best_fit[1:], label='fit')\n",
    "\n",
    "alpha = float(fit.fit_report().split('alpha: ')[1].split('+/-')[0])\n",
    "deltAlpha = float(fit.fit_report().split('alpha: ')[1].split('+/-')[1].split('(')[0])\n",
    "\n",
    "Cv = lambda T, alpha, q: ((Tct-T)/Tct)**(-alpha) + q\n",
    "\n",
    "df_model = dfh00[dfh00.Temp < Tct]\n",
    "\n",
    "Cv_model = Model(Cv)\n",
    "fit = Cv_model.fit(df_model.Cv.values, T=df_model.Temp.values, weights=1/df_model.deltaCv.values**2,\n",
    "                   alpha=0.2, q=1, nan_policy='propagate')\n",
    "print(fit.fit_report().split('[[Variables]]')[-1].split('[')[0])\n",
    "\n",
    "# plt.plot(df_model.Temp.values[1:], fit.best_fit[1:], label='fit')\n",
    "\n",
    "plt.xlabel('$\\\\frac{{k_B T}}{{J}}$', fontsize=20)\n",
    "plt.ylabel('$\\\\frac{C_v}{N}$   ', fontsize=20, rotation='horizontal')\n",
    "plt.grid()\n",
    "plt.legend()\n",
    "pp.savefig()\n",
    "plt.show()"
   ]
  },
  {
   "cell_type": "code",
   "execution_count": 5,
   "metadata": {},
   "outputs": [
    {
     "data": {
      "image/png": "[encoded data removed]",
      "text/plain": [
       "<Figure size 576x432 with 1 Axes>"
      ]
     },
     "metadata": {
      "needs_background": "light"
     },
     "output_type": "display_data"
    }
   ],
   "source": [
    "plt.errorbar(dfh10.Temp, dfh10.Cv, fmt='.', yerr=dfh10.deltaCv, label='h = 1.0')\n",
    "plt.errorbar(dfh20.Temp, dfh20.Cv, fmt='.', yerr=dfh20.deltaCv, label='h = 2.0')\n",
    "\n",
    "plt.xlabel('$\\\\frac{{k_B T}}{{J}}$', fontsize=20)\n",
    "plt.ylabel('$\\\\frac{C_v}{N}$   ', fontsize=20, rotation='horizontal')\n",
    "plt.legend()\n",
    "plt.grid()\n",
    "pp.savefig()\n",
    "plt.show()"
   ]
  },
  {
   "cell_type": "markdown",
   "metadata": {},
   "source": [
    "# M"
   ]
  },
  {
   "cell_type": "code",
   "execution_count": 6,
   "metadata": {},
   "outputs": [
    {
     "name": "stdout",
     "output_type": "stream",
     "text": [
      "[[Model]]\n",
      "    Model(<lambda>)\n",
      "[[Fit Statistics]]\n",
      "    # fitting method   = leastsq\n",
      "    # function evals   = 7\n",
      "    # data points      = 15\n",
      "    # variables        = 1\n",
      "    chi-square         = 1.7402e+13\n",
      "    reduced chi-square = 1.2430e+12\n",
      "    Akaike info crit   = 418.693727\n",
      "    Bayesian info crit = 419.401777\n",
      "[[Variables]]\n",
      "    beta:  0.43759842 +/- 0.00191346 (0.44%) (init = 0.4)\n"
     ]
    },
    {
     "data": {
      "image/png": "[encoded data removed]",
      "text/plain": [
       "<Figure size 576x432 with 1 Axes>"
      ]
     },
     "metadata": {
      "needs_background": "light"
     },
     "output_type": "display_data"
    }
   ],
   "source": [
    "plt.errorbar(dfh00.Temp, dfh00.M2, fmt='.', yerr=dfh00.deltaM2, label='MC data')\n",
    "\n",
    "M2 = lambda T, beta: ((Tct-T)/Tct)**(beta)\n",
    "\n",
    "df_model = dfh00[dfh00.Temp < Tct]\n",
    "\n",
    "M2_model = Model(M2)\n",
    "fit = M2_model.fit(df_model.M2.values, T=df_model.Temp.values, weights=1/df_model.deltaM2.values**2,\n",
    "                   beta=0.4, nan_policy='propagate')\n",
    "print(fit.fit_report())\n",
    "\n",
    "beta = float(fit.fit_report().split('beta: ')[1].split('+/-')[0])\n",
    "deltaBeta = float(fit.fit_report().split('beta: ')[1].split('+/-')[1].split('(')[0])\n",
    "\n",
    "plt.plot(df_model.Temp.values[:-1], fit.best_fit[:-1], label='fit')\n",
    "\n",
    "plt.xlabel('$\\\\frac{{k_B T}}{{J}}$', fontsize=20)\n",
    "plt.ylabel('$\\\\frac{\\\\langle M \\\\rangle^2}{N^2}$     ', fontsize=20, rotation='horizontal')\n",
    "plt.grid()\n",
    "plt.legend()\n",
    "pp.savefig()\n",
    "plt.show()"
   ]
  },
  {
   "cell_type": "code",
   "execution_count": 7,
   "metadata": {},
   "outputs": [
    {
     "data": {
      "image/png": "[encoded data removed]",
      "text/plain": [
       "<Figure size 576x432 with 1 Axes>"
      ]
     },
     "metadata": {
      "needs_background": "light"
     },
     "output_type": "display_data"
    }
   ],
   "source": [
    "plt.errorbar(dfh10.Temp, dfh10.M2, fmt='.', yerr=dfh10.deltaM2, label='h = 1.0')\n",
    "plt.errorbar(dfh20.Temp, dfh20.M2, fmt='.', yerr=dfh20.deltaM2, label='h = 2.0')\n",
    "\n",
    "plt.xlabel('$\\\\frac{{k_B T}}{{J}}$', fontsize=20)\n",
    "plt.ylabel('$\\\\frac{\\\\langle M \\\\rangle^2}{N^2}$     ', fontsize=20, rotation='horizontal')\n",
    "plt.legend()\n",
    "plt.grid()\n",
    "pp.savefig()\n",
    "plt.show()"
   ]
  },
  {
   "cell_type": "code",
   "execution_count": 8,
   "metadata": {},
   "outputs": [
    {
     "name": "stdout",
     "output_type": "stream",
     "text": [
      "[[Model]]\n",
      "    Model(<lambda>)\n",
      "[[Fit Statistics]]\n",
      "    # fitting method   = leastsq\n",
      "    # function evals   = 16\n",
      "    # data points      = 41\n",
      "    # variables        = 2\n",
      "    chi-square         = 1.5511e+14\n",
      "    reduced chi-square = 3.9772e+12\n",
      "    Akaike info crit   = 1191.42502\n",
      "    Bayesian info crit = 1194.85216\n",
      "[[Variables]]\n",
      "    delta:  3.86166994 +/- 0.08769417 (2.27%) (init = 5)\n",
      "    k:      0.53484536 +/- 0.00138548 (0.26%) (init = 1)\n",
      "[[Correlations]] (unreported correlations are < 0.100)\n",
      "    C(delta, k) =  0.645\n"
     ]
    },
    {
     "data": {
      "image/png": "[encoded data removed]",
      "text/plain": [
       "<Figure size 576x432 with 1 Axes>"
      ]
     },
     "metadata": {
      "needs_background": "light"
     },
     "output_type": "display_data"
    }
   ],
   "source": [
    "dfTc = df[df.Temp == 2.22]\n",
    "plt.errorbar(dfTc.h, dfTc.M2, fmt='.', yerr=dfTc.deltaM2, label='MC data')\n",
    "\n",
    "M2 = lambda h, delta, k : k*h**(1/delta)\n",
    "\n",
    "M2_model = Model(M2)\n",
    "fit = M2_model.fit(dfTc.M2.values, h=dfTc.h.values, weights=1/dfTc.deltaM2.values**2,\n",
    "                   delta=5, k=1, nan_policy='propagate')\n",
    "print(fit.fit_report())\n",
    "\n",
    "delta = float(fit.fit_report().split('delta: ')[1].split('+/-')[0])\n",
    "deltaDelta = float(fit.fit_report().split('delta: ')[1].split('+/-')[1].split('(')[0])\n",
    "\n",
    "plt.plot(dfTc.h.values[1:], fit.best_fit[1:], label='fit')\n",
    "\n",
    "plt.xlabel('h', fontsize=20)\n",
    "plt.ylabel('$\\\\frac{\\\\langle M \\\\rangle^2}{N^2}$     ', fontsize=20, rotation='horizontal')\n",
    "plt.grid()\n",
    "plt.legend()\n",
    "pp.savefig()\n",
    "plt.show()"
   ]
  },
  {
   "cell_type": "code",
   "execution_count": 9,
   "metadata": {},
   "outputs": [
    {
     "data": {
      "text/latex": [
       "$\\nu_1 = (0.600 \\pm 0.001)$"
      ],
      "text/plain": [
       "<IPython.core.display.Latex object>"
      ]
     },
     "metadata": {},
     "output_type": "display_data"
    },
    {
     "data": {
      "text/latex": [
       "$\\nu_2 = (0.709 \\pm 0.016)$"
      ],
      "text/plain": [
       "<IPython.core.display.Latex object>"
      ]
     },
     "metadata": {},
     "output_type": "display_data"
    },
    {
     "data": {
      "text/latex": [
       "$\\nu = (0.654 \\pm 0.008)$"
      ],
      "text/plain": [
       "<IPython.core.display.Latex object>"
      ]
     },
     "metadata": {},
     "output_type": "display_data"
    },
    {
     "data": {
      "text/latex": [
       "$\\gamma = (1.088 \\pm 0.025)$"
      ],
      "text/plain": [
       "<IPython.core.display.Latex object>"
      ]
     },
     "metadata": {},
     "output_type": "display_data"
    }
   ],
   "source": [
    "d = 3\n",
    "\n",
    "nu1 = (2-alpha)/d\n",
    "deltaNu1 = deltAlpha/d\n",
    "\n",
    "nu2 = beta/d*(delta+1)\n",
    "deltaNu2 = nu2 * np.sqrt((deltaBeta/beta)**2 + (deltaDelta/delta)**2)\n",
    "\n",
    "nu = np.mean([nu2, nu1])\n",
    "deltaNu = np.sqrt(deltaNu1**2 + deltaNu2**2) / 2\n",
    "\n",
    "gamma = d*nu- 2*beta\n",
    "deltaGamma = np.sqrt((d*deltaNu)**2 + (2*deltaBeta)**2)\n",
    "\n",
    "display(Latex(f'$\\\\nu_1 = ({nu1:.3f} \\pm {deltaNu1:.3f})$'))\n",
    "display(Latex(f'$\\\\nu_2 = ({nu2:.3f} \\pm {deltaNu2:.3f})$'))\n",
    "display(Latex(f'$\\\\nu = ({nu:.3f} \\pm {deltaNu:.3f})$'))\n",
    "display(Latex(f'$\\\\gamma = ({gamma:.3f} \\pm {deltaGamma:.3f})$'))"
   ]
  },
  {
   "cell_type": "code",
   "execution_count": 10,
   "metadata": {},
   "outputs": [],
   "source": [
    "pp.close()"
   ]
  }
 ],
 "metadata": {
  "kernelspec": {
   "display_name": "Python 3",
   "language": "python",
   "name": "python3"
  },
  "language_info": {
   "codemirror_mode": {
    "name": "ipython",
    "version": 3
   },
   "file_extension": ".py",
   "mimetype": "text/x-python",
   "name": "python",
   "nbconvert_exporter": "python",
   "pygments_lexer": "ipython3",
   "version": "3.8.5"
  }
 },
 "nbformat": 4,
 "nbformat_minor": 4
}
